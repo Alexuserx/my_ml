{
 "cells": [
  {
   "cell_type": "markdown",
   "metadata": {
    "id": "NFmOh482SyEF"
   },
   "source": [
    "## Lab 2\n",
    "### Part 2: Dealing with overfitting"
   ]
  },
  {
   "cell_type": "markdown",
   "metadata": {
    "id": "AjzAuO3oSvsI"
   },
   "source": [
    "Today we work with [Fashion-MNIST dataset](https://github.com/zalandoresearch/fashion-mnist) (*hint: it is available in `torchvision`*).\n",
    "\n",
    "Your goal for today:\n",
    "1. Train a FC (fully-connected) network that achieves >= 0.885 test accuracy.\n",
    "2. Cause considerable overfitting by modifying the network (e.g. increasing the number of network parameters and/or layers) and demonstrate in in the appropriate way (e.g. plot loss and accurasy on train and validation set w.r.t. network complexity).\n",
    "3. Try to deal with overfitting (at least partially) by using regularization techniques (Dropout/Batchnorm/...) and demonstrate the results.\n",
    "\n",
    "__Please, write a small report describing your ideas, tries and achieved results in the end of this file.__\n",
    "\n",
    "*Note*: Tasks 2 and 3 are interrelated, in task 3 your goal is to make the network from task 2 less prone to overfitting. Task 1 is independent from 2 and 3.\n",
    "\n",
    "*Note 2*: We recomment to use Google Colab or other machine with GPU acceleration."
   ]
  },
  {
   "cell_type": "code",
   "execution_count": 1,
   "metadata": {
    "colab": {
     "base_uri": "https://localhost:8080/",
     "height": 35
    },
    "id": "_KBld6VOSwhW",
    "outputId": "c08a01a5-6025-4412-8ddc-98906ec27b9d"
   },
   "outputs": [
    {
     "ename": "ModuleNotFoundError",
     "evalue": "No module named 'torchsummary'",
     "output_type": "error",
     "traceback": [
      "\u001b[1;31m---------------------------------------------------------------------------\u001b[0m",
      "\u001b[1;31mModuleNotFoundError\u001b[0m                       Traceback (most recent call last)",
      "\u001b[1;32m<ipython-input-1-d20b7dd01509>\u001b[0m in \u001b[0;36m<module>\u001b[1;34m\u001b[0m\n\u001b[0;32m      3\u001b[0m \u001b[1;32mimport\u001b[0m \u001b[0mtorchvision\u001b[0m\u001b[1;33m\u001b[0m\u001b[1;33m\u001b[0m\u001b[0m\n\u001b[0;32m      4\u001b[0m \u001b[1;32mimport\u001b[0m \u001b[0mtorchvision\u001b[0m\u001b[1;33m.\u001b[0m\u001b[0mtransforms\u001b[0m \u001b[1;32mas\u001b[0m \u001b[0mtransforms\u001b[0m\u001b[1;33m\u001b[0m\u001b[1;33m\u001b[0m\u001b[0m\n\u001b[1;32m----> 5\u001b[1;33m \u001b[1;32mimport\u001b[0m \u001b[0mtorchsummary\u001b[0m\u001b[1;33m\u001b[0m\u001b[1;33m\u001b[0m\u001b[0m\n\u001b[0m\u001b[0;32m      6\u001b[0m \u001b[1;32mfrom\u001b[0m \u001b[0mIPython\u001b[0m\u001b[1;33m.\u001b[0m\u001b[0mdisplay\u001b[0m \u001b[1;32mimport\u001b[0m \u001b[0mclear_output\u001b[0m\u001b[1;33m\u001b[0m\u001b[1;33m\u001b[0m\u001b[0m\n\u001b[0;32m      7\u001b[0m \u001b[1;32mfrom\u001b[0m \u001b[0mmatplotlib\u001b[0m \u001b[1;32mimport\u001b[0m \u001b[0mpyplot\u001b[0m \u001b[1;32mas\u001b[0m \u001b[0mplt\u001b[0m\u001b[1;33m\u001b[0m\u001b[1;33m\u001b[0m\u001b[0m\n",
      "\u001b[1;31mModuleNotFoundError\u001b[0m: No module named 'torchsummary'"
     ]
    }
   ],
   "source": [
    "import torch\n",
    "import torch.nn as nn\n",
    "import torchvision\n",
    "import torchvision.transforms as transforms\n",
    "import torchsummary\n",
    "from IPython.display import clear_output\n",
    "from matplotlib import pyplot as plt\n",
    "from matplotlib.pyplot import figure\n",
    "import numpy as np\n",
    "import os\n",
    "\n",
    "\n",
    "device = 'cuda:0' if torch.cuda.is_available() else 'cpu'\n",
    "device"
   ]
  },
  {
   "cell_type": "code",
   "execution_count": null,
   "metadata": {
    "colab": {
     "base_uri": "https://localhost:8080/"
    },
    "id": "EdLOG0XqS_g5",
    "outputId": "d098a485-b91e-435e-9fdc-95693eb7f6a2"
   },
   "outputs": [
    {
     "name": "stdout",
     "output_type": "stream",
     "text": [
      "Directory fmnist is created!\n"
     ]
    }
   ],
   "source": [
    "# Technical function\n",
    "def mkdir(path):\n",
    "    if not os.path.exists(root_path):\n",
    "        os.mkdir(root_path)\n",
    "        print('Directory', path, 'is created!')\n",
    "    else:\n",
    "        print('Directory', path, 'already exists!')\n",
    "        \n",
    "root_path = 'fmnist'\n",
    "mkdir(root_path)"
   ]
  },
  {
   "cell_type": "code",
   "execution_count": null,
   "metadata": {
    "colab": {
     "base_uri": "https://localhost:8080/",
     "height": 366,
     "referenced_widgets": [
      "3d4ed7f910fd41d6aa93249515de6981",
      "0798883486da478aa53ebe133b7921e8",
      "2b1d1878991c466bb72004ca633d9c4f",
      "981aa28012c34b4dae1a02e189650f0c",
      "455eb4744cc24aa4b9b06c36e5b0b1c4",
      "f75d8937b92045049f2f52e21aefb1c7",
      "91940323ae5d4bb1a35101c25e14f308",
      "46d697d4779e419b9c9873714ebec231",
      "fff5b31ef6d641089bb919dc7ee48d56",
      "6d99442761384761adeee0cf17cfde21",
      "2f7203678b2f4338b4c95f0ba0e8c37e",
      "90f3d1c137284fe28fadadaa82fde49d",
      "6c4c78ebb4e34284a99b08059a0d734a",
      "f88c86c503ca4ebe8420c4b71d997601",
      "ce7e6bee03b94c8bb123e1c805b9bf0a",
      "b42b3ed0a4be467fa607d0b084a02185",
      "397237db90b14f85943ef209f363c265",
      "23b502d7a2634c91b1f5a81d4655df9d",
      "c5395cffb7bb4a5bafc8a557e4055706",
      "dbd80215b5d24f96bdc9c3c312d72099",
      "a62959e80cde4944890d7a87f79ba6a2",
      "c44b1a87ac6b4216bf1c28be29bdd814",
      "73937ba582ee4a52bd6f3dc1612cc72f",
      "4d51a562ed45404b9e70239906ca2faa",
      "f5f12cbf0a464da1ae742d4108ffd7ed",
      "cc614219015d496998be8456a401870b",
      "92b57062b2d345e3a4f3085c0a089e7e",
      "821a9e0e367e4062a9269ad794c0b997",
      "d20276b0e758439fb80d6055178f11c7",
      "7271cba0ef374c4bac9e4bc3dfca09f9",
      "6d2ef40fe82545a5ab555db4284dae82",
      "a606d973f6734372aec3a9c966e253e6"
     ]
    },
    "id": "qt6LE7XaTDT9",
    "outputId": "8a06f75c-51f7-4d5a-b661-3db41b5982dd"
   },
   "outputs": [
    {
     "name": "stdout",
     "output_type": "stream",
     "text": [
      "Downloading http://fashion-mnist.s3-website.eu-central-1.amazonaws.com/train-images-idx3-ubyte.gz to fmnist/FashionMNIST/raw/train-images-idx3-ubyte.gz\n"
     ]
    },
    {
     "data": {
      "application/vnd.jupyter.widget-view+json": {
       "model_id": "3d4ed7f910fd41d6aa93249515de6981",
       "version_major": 2,
       "version_minor": 0
      },
      "text/plain": [
       "HBox(children=(FloatProgress(value=1.0, bar_style='info', max=1.0), HTML(value='')))"
      ]
     },
     "metadata": {
      "tags": []
     },
     "output_type": "display_data"
    },
    {
     "name": "stdout",
     "output_type": "stream",
     "text": [
      "Extracting fmnist/FashionMNIST/raw/train-images-idx3-ubyte.gz to fmnist/FashionMNIST/raw\n",
      "Downloading http://fashion-mnist.s3-website.eu-central-1.amazonaws.com/train-labels-idx1-ubyte.gz to fmnist/FashionMNIST/raw/train-labels-idx1-ubyte.gz\n"
     ]
    },
    {
     "data": {
      "application/vnd.jupyter.widget-view+json": {
       "model_id": "fff5b31ef6d641089bb919dc7ee48d56",
       "version_major": 2,
       "version_minor": 0
      },
      "text/plain": [
       "HBox(children=(FloatProgress(value=1.0, bar_style='info', max=1.0), HTML(value='')))"
      ]
     },
     "metadata": {
      "tags": []
     },
     "output_type": "display_data"
    },
    {
     "name": "stdout",
     "output_type": "stream",
     "text": [
      "Extracting fmnist/FashionMNIST/raw/train-labels-idx1-ubyte.gz to fmnist/FashionMNIST/raw\n",
      "Downloading http://fashion-mnist.s3-website.eu-central-1.amazonaws.com/t10k-images-idx3-ubyte.gz to fmnist/FashionMNIST/raw/t10k-images-idx3-ubyte.gz\n"
     ]
    },
    {
     "data": {
      "application/vnd.jupyter.widget-view+json": {
       "model_id": "397237db90b14f85943ef209f363c265",
       "version_major": 2,
       "version_minor": 0
      },
      "text/plain": [
       "HBox(children=(FloatProgress(value=1.0, bar_style='info', max=1.0), HTML(value='')))"
      ]
     },
     "metadata": {
      "tags": []
     },
     "output_type": "display_data"
    },
    {
     "name": "stdout",
     "output_type": "stream",
     "text": [
      "Extracting fmnist/FashionMNIST/raw/t10k-images-idx3-ubyte.gz to fmnist/FashionMNIST/raw\n",
      "Downloading http://fashion-mnist.s3-website.eu-central-1.amazonaws.com/t10k-labels-idx1-ubyte.gz to fmnist/FashionMNIST/raw/t10k-labels-idx1-ubyte.gz\n"
     ]
    },
    {
     "data": {
      "application/vnd.jupyter.widget-view+json": {
       "model_id": "f5f12cbf0a464da1ae742d4108ffd7ed",
       "version_major": 2,
       "version_minor": 0
      },
      "text/plain": [
       "HBox(children=(FloatProgress(value=1.0, bar_style='info', max=1.0), HTML(value='')))"
      ]
     },
     "metadata": {
      "tags": []
     },
     "output_type": "display_data"
    },
    {
     "name": "stdout",
     "output_type": "stream",
     "text": [
      "Extracting fmnist/FashionMNIST/raw/t10k-labels-idx1-ubyte.gz to fmnist/FashionMNIST/raw\n",
      "Processing...\n",
      "Done!\n"
     ]
    },
    {
     "name": "stderr",
     "output_type": "stream",
     "text": [
      "/usr/local/lib/python3.6/dist-packages/torchvision/datasets/mnist.py:480: UserWarning: The given NumPy array is not writeable, and PyTorch does not support non-writeable tensors. This means you can write to the underlying (supposedly non-writeable) NumPy array using the tensor. You may want to copy the array to protect its data or make it writeable before converting it to a tensor. This type of warning will be suppressed for the rest of this program. (Triggered internally at  /pytorch/torch/csrc/utils/tensor_numpy.cpp:141.)\n",
      "  return torch.from_numpy(parsed.astype(m[2], copy=False)).view(*s)\n"
     ]
    }
   ],
   "source": [
    "download = True\n",
    "train_transform = transforms.ToTensor()\n",
    "test_transform = transforms.ToTensor()\n",
    "transforms.Compose((transforms.ToTensor()))\n",
    "\n",
    "\n",
    "fmnist_dataset_train = torchvision.datasets.FashionMNIST(root_path, \n",
    "                                                        train=True, \n",
    "                                                        transform=train_transform,\n",
    "                                                        target_transform=None,\n",
    "                                                        download=download)\n",
    "fmnist_dataset_test = torchvision.datasets.FashionMNIST(root_path, \n",
    "                                                       train=False, \n",
    "                                                       transform=test_transform,\n",
    "                                                       target_transform=None,\n",
    "                                                       download=download)\n",
    "X_train = fmnist_dataset_train.data\n",
    "y_train = fmnist_dataset_train.targets\n",
    "X_test = fmnist_dataset_test.data\n",
    "y_test = fmnist_dataset_test.targets\n",
    "X_train = X_train.float()\n",
    "X_test = X_test.float()\n",
    "X_train = X_train.to(device)\n",
    "y_train = y_train.to(device)\n",
    "X_test = X_test.to(device)\n",
    "y_test = y_test.to(device)"
   ]
  },
  {
   "cell_type": "code",
   "execution_count": null,
   "metadata": {
    "id": "71YP0SPwTIxD"
   },
   "outputs": [],
   "source": [
    "train_loader = torch.utils.data.DataLoader(fmnist_dataset_train, \n",
    "                                           batch_size=128,\n",
    "                                           shuffle=True,\n",
    "                                           num_workers=2)\n",
    "test_loader = torch.utils.data.DataLoader(fmnist_dataset_test,\n",
    "                                          batch_size=256,\n",
    "                                          shuffle=False,\n",
    "                                          num_workers=2)\n"
   ]
  },
  {
   "cell_type": "markdown",
   "metadata": {
    "id": "b6OOOffHTfX5"
   },
   "source": [
    "### Task 1\n",
    "Train a network that achieves $\\geq 0.885$ test accuracy. It's fine to use only Linear (`nn.Linear`) layers and activations/dropout/batchnorm. Convolutional layers might be a great use, but we will meet them a bit later."
   ]
  },
  {
   "cell_type": "markdown",
   "metadata": {
    "id": "P-3mn-3Lp0Gv"
   },
   "source": [
    "Создадим простую сеть, состоящую из двух линейных слоёв и содержащую около 80,000 обучаемых параметров. "
   ]
  },
  {
   "cell_type": "code",
   "execution_count": null,
   "metadata": {
    "id": "ftpkTjxlTcFx"
   },
   "outputs": [],
   "source": [
    "class TinyNeuralNetwork(nn.Module):\n",
    "    def __init__(self, input_shape=28*28, num_classes=10, input_channels=1):\n",
    "        super(self.__class__, self).__init__()\n",
    "        self.model = nn.Sequential(\n",
    "            nn.Flatten(), # This layer converts image into a vector to use Linear layers afterwards\n",
    "            # Your network structure comes here\n",
    "            nn.Linear(input_shape, 100),\n",
    "            nn.Sigmoid(),\n",
    "            nn.Linear(100, num_classes)\n",
    "        )\n",
    "        \n",
    "        \n",
    "    def forward(self, inp):       \n",
    "        out = self.model(inp)\n",
    "        return out    "
   ]
  },
  {
   "cell_type": "code",
   "execution_count": null,
   "metadata": {
    "colab": {
     "base_uri": "https://localhost:8080/"
    },
    "id": "S4QFE4syKzTz",
    "outputId": "e29a62e9-dd70-4415-a6ee-41e7534eb026"
   },
   "outputs": [
    {
     "name": "stdout",
     "output_type": "stream",
     "text": [
      "----------------------------------------------------------------\n",
      "        Layer (type)               Output Shape         Param #\n",
      "================================================================\n",
      "           Flatten-1                  [-1, 784]               0\n",
      "            Linear-2                  [-1, 100]          78,500\n",
      "           Sigmoid-3                  [-1, 100]               0\n",
      "            Linear-4                   [-1, 10]           1,010\n",
      "================================================================\n",
      "Total params: 79,510\n",
      "Trainable params: 79,510\n",
      "Non-trainable params: 0\n",
      "----------------------------------------------------------------\n",
      "Input size (MB): 0.00\n",
      "Forward/backward pass size (MB): 0.01\n",
      "Params size (MB): 0.30\n",
      "Estimated Total Size (MB): 0.31\n",
      "----------------------------------------------------------------\n"
     ]
    }
   ],
   "source": [
    "torchsummary.summary(TinyNeuralNetwork().to(device), (28*28,))"
   ]
  },
  {
   "cell_type": "markdown",
   "metadata": {
    "id": "544PGKEnjPr5"
   },
   "source": [
    "Your experiments come here:"
   ]
  },
  {
   "cell_type": "markdown",
   "metadata": {
    "id": "p30Pblx2qPMX"
   },
   "source": [
    "Далее создадим две функции: одну для тренировки и обучения модели, вторую для построения графиков функции потерь и accuracy."
   ]
  },
  {
   "cell_type": "code",
   "execution_count": null,
   "metadata": {
    "id": "i3POFj90Ti-6"
   },
   "outputs": [],
   "source": [
    "def main_loop(n_epoch, test_accuracy, test_loss, train_accuracy, train_loss):\n",
    "\n",
    "  # Your experiments, training and validation loops here\n",
    "  for epoch in range(n_epoch):\n",
    "\n",
    "      epoch_train_loss = []\n",
    "      epoch_train_accuracy = []\n",
    "      epoch_test_loss = []\n",
    "      epoch_test_accuracy = []\n",
    "      net.train()\n",
    "      for img, label in train_loader:\n",
    "          opt.zero_grad()\n",
    "          img = img.float()\n",
    "          img = img.to(device)\n",
    "          label = label.to(device)\n",
    "\n",
    "          preds = net.forward(img) \n",
    "          loss_value = loss(preds, label)\n",
    "          loss_value.backward()\n",
    "          \n",
    "          opt.step()\n",
    "\n",
    "          epoch_train_loss.append(loss_value.item())\n",
    "          preds_train = preds.max(dim=1)[1]\n",
    "          epoch_train_accuracy.append(np.sum(label.cpu().numpy() == preds_train.cpu().numpy().astype(float))/ len(label.cpu()))\n",
    "      net.eval()\n",
    "      for X_test, y_test in test_loader:\n",
    "          X_test = X_test.to(device)\n",
    "          y_test = y_test.to(device)\n",
    "          label_pred_test = net.forward(X_test)\n",
    "          loss_value = loss(label_pred_test, y_test)\n",
    "          \n",
    "          epoch_test_loss.append(loss_value.item())\n",
    "          label_pred_test = label_pred_test.max(dim=1)[1]\n",
    "          epoch_test_accuracy.append(np.sum(y_test.cpu().numpy() == label_pred_test.cpu().numpy().astype(float))/ len(y_test.cpu()))\n",
    "\n",
    "      train_loss.append(np.mean(epoch_train_loss))\n",
    "      train_accuracy.append(np.mean(epoch_train_accuracy))\n",
    "\n",
    "      test_loss.append(np.mean(epoch_test_loss))\n",
    "      test_accuracy.append(np.mean(epoch_test_accuracy))\n",
    "      print('epoch =', epoch, np.mean(epoch_test_accuracy))\n",
    "\n",
    "def plot_loss_accuracy_history(test_accuracy, test_loss, train_accuracy, train_loss):\n",
    "  plt.figure(figsize = (16, 12))\n",
    "  plt.grid()\n",
    "  plt.plot(test_accuracy, c ='r', label = 'test_accuracy')\n",
    "  plt.plot(test_loss, c= 'orange', label = 'test_loss')\n",
    "  plt.plot(train_accuracy, c = 'g', label = 'train_accuracy')\n",
    "  plt.plot(train_loss, c = 'b', label = 'train_loss')\n",
    "  plt.legend()"
   ]
  },
  {
   "cell_type": "markdown",
   "metadata": {
    "id": "yaHqKMhWqlDf"
   },
   "source": [
    "Обучим первую нейросеть и построим необходимые графики."
   ]
  },
  {
   "cell_type": "code",
   "execution_count": null,
   "metadata": {
    "colab": {
     "base_uri": "https://localhost:8080/"
    },
    "id": "1U1HA6A4VHAe",
    "outputId": "f8ae311b-3510-4954-b957-3a50d65ea30a"
   },
   "outputs": [
    {
     "name": "stdout",
     "output_type": "stream",
     "text": [
      "epoch = 0 0.74892578125\n",
      "epoch = 1 0.79833984375\n",
      "epoch = 2 0.81962890625\n",
      "epoch = 3 0.82783203125\n",
      "epoch = 4 0.83564453125\n",
      "epoch = 5 0.83916015625\n",
      "epoch = 6 0.8419921875\n",
      "epoch = 7 0.8494140625\n",
      "epoch = 8 0.85029296875\n",
      "epoch = 9 0.8529296875\n",
      "epoch = 10 0.8568359375\n",
      "epoch = 11 0.85830078125\n",
      "epoch = 12 0.858984375\n",
      "epoch = 13 0.861328125\n",
      "epoch = 14 0.8611328125\n",
      "epoch = 15 0.86591796875\n",
      "epoch = 16 0.86650390625\n",
      "epoch = 17 0.8669921875\n",
      "epoch = 18 0.86748046875\n",
      "epoch = 19 0.86826171875\n",
      "epoch = 20 0.8703125\n",
      "epoch = 21 0.869921875\n",
      "epoch = 22 0.87197265625\n",
      "epoch = 23 0.8708984375\n",
      "epoch = 24 0.86943359375\n",
      "epoch = 25 0.87041015625\n",
      "epoch = 26 0.8689453125\n",
      "epoch = 27 0.87490234375\n",
      "epoch = 28 0.8748046875\n",
      "epoch = 29 0.87431640625\n",
      "epoch = 30 0.875390625\n",
      "epoch = 31 0.8740234375\n",
      "epoch = 32 0.8744140625\n",
      "epoch = 33 0.87373046875\n",
      "epoch = 34 0.87412109375\n",
      "epoch = 35 0.8763671875\n",
      "epoch = 36 0.87646484375\n",
      "epoch = 37 0.8787109375\n",
      "epoch = 38 0.8796875\n",
      "epoch = 39 0.88017578125\n",
      "epoch = 40 0.879296875\n",
      "epoch = 41 0.88017578125\n",
      "epoch = 42 0.88076171875\n",
      "epoch = 43 0.88017578125\n",
      "epoch = 44 0.8810546875\n",
      "epoch = 45 0.87998046875\n",
      "epoch = 46 0.8818359375\n",
      "epoch = 47 0.88154296875\n",
      "epoch = 48 0.882421875\n",
      "epoch = 49 0.87822265625\n",
      "epoch = 50 0.88310546875\n",
      "epoch = 51 0.88466796875\n",
      "epoch = 52 0.88291015625\n",
      "epoch = 53 0.88154296875\n",
      "epoch = 54 0.88388671875\n",
      "epoch = 55 0.884765625\n",
      "epoch = 56 0.8857421875\n",
      "epoch = 57 0.885546875\n",
      "epoch = 58 0.883203125\n",
      "epoch = 59 0.88642578125\n",
      "epoch = 60 0.88359375\n",
      "epoch = 61 0.88662109375\n",
      "epoch = 62 0.8861328125\n",
      "epoch = 63 0.88603515625\n",
      "epoch = 64 0.8865234375\n",
      "epoch = 65 0.88642578125\n",
      "epoch = 66 0.8865234375\n",
      "epoch = 67 0.88857421875\n",
      "epoch = 68 0.88740234375\n",
      "epoch = 69 0.8880859375\n",
      "epoch = 70 0.88681640625\n",
      "epoch = 71 0.88935546875\n",
      "epoch = 72 0.88720703125\n",
      "epoch = 73 0.88759765625\n",
      "epoch = 74 0.88720703125\n",
      "epoch = 75 0.88779296875\n",
      "epoch = 76 0.887890625\n",
      "epoch = 77 0.8873046875\n",
      "epoch = 78 0.890625\n",
      "epoch = 79 0.8896484375\n",
      "epoch = 80 0.8912109375\n",
      "epoch = 81 0.888671875\n",
      "epoch = 82 0.88984375\n",
      "epoch = 83 0.8865234375\n",
      "epoch = 84 0.8880859375\n",
      "epoch = 85 0.890234375\n",
      "epoch = 86 0.88935546875\n",
      "epoch = 87 0.88818359375\n",
      "epoch = 88 0.887890625\n",
      "epoch = 89 0.88779296875\n",
      "epoch = 90 0.88818359375\n",
      "epoch = 91 0.888671875\n",
      "epoch = 92 0.886328125\n",
      "epoch = 93 0.8888671875\n",
      "epoch = 94 0.88916015625\n",
      "epoch = 95 0.88974609375\n",
      "epoch = 96 0.8876953125\n",
      "epoch = 97 0.8888671875\n",
      "epoch = 98 0.888671875\n",
      "epoch = 99 0.88916015625\n"
     ]
    }
   ],
   "source": [
    "test_accuracy = []\n",
    "test_loss = []\n",
    "train_accuracy = []\n",
    "train_loss = []\n",
    "\n",
    "net = TinyNeuralNetwork().to(device)\n",
    "opt = torch.optim.Adam(net.parameters(), lr=3.0e-4) # YOUR CODE HERE\n",
    "loss = torch.nn.CrossEntropyLoss() # YOUR CODE HERE\n",
    "\n",
    "main_loop(100, test_accuracy, test_loss, train_accuracy, train_loss)"
   ]
  },
  {
   "cell_type": "code",
   "execution_count": null,
   "metadata": {
    "colab": {
     "base_uri": "https://localhost:8080/",
     "height": 700
    },
    "id": "iAU40J14pmZX",
    "outputId": "ef32e73a-e755-4e26-ea45-2e53348b707a"
   },
   "outputs": [
    {
     "data": {
      "image/png": "[encoded data removed]",
      "text/plain": [
       "<Figure size 1152x864 with 1 Axes>"
      ]
     },
     "metadata": {
      "needs_background": "light",
      "tags": []
     },
     "output_type": "display_data"
    }
   ],
   "source": [
    "plot_loss_accuracy_history(test_accuracy, test_loss, train_accuracy, train_loss)"
   ]
  },
  {
   "cell_type": "markdown",
   "metadata": {
    "id": "RXCC6M9-qxFP"
   },
   "source": [
    "За 100 эпох модель достигла точности 0.888. При этом момент переобучения не наступил, так как функция потерь падает как на тренировочной выборке, так и на тестовой. "
   ]
  },
  {
   "cell_type": "markdown",
   "metadata": {
    "id": "L7ISqkjmCPB1"
   },
   "source": [
    "### Task 2: Overfit it.\n",
    "Build a network that will overfit to this dataset. Demonstrate the overfitting in the appropriate way (e.g. plot loss and accurasy on train and test set w.r.t. network complexity).\n",
    "\n",
    "*Note:* you also might decrease the size of `train` dataset to enforce the overfitting and speed up the computations."
   ]
  },
  {
   "cell_type": "markdown",
   "metadata": {
    "id": "5VicmC1RrKiP"
   },
   "source": [
    "Уменьшим размер тренировочного датасета до 20000 изображений (то есть в три раза) для того, чтобы ускорить процесс обучения и раньше добиться эффекта переобучения. Также понадобится новый DataLoader.  "
   ]
  },
  {
   "cell_type": "code",
   "execution_count": null,
   "metadata": {
    "colab": {
     "base_uri": "https://localhost:8080/"
    },
    "id": "B7KVbce-rOg6",
    "outputId": "22c359ea-d04b-41e1-da6e-2baa8725a525"
   },
   "outputs": [
    {
     "data": {
      "text/plain": [
       "20000"
      ]
     },
     "execution_count": 14,
     "metadata": {
      "tags": []
     },
     "output_type": "execute_result"
    }
   ],
   "source": [
    "order = list(np.random.randint(0, len(fmnist_dataset_train), len(fmnist_dataset_train) // 3))\n",
    "new_train_datadet = torch.utils.data.Subset(fmnist_dataset_train, order)\n",
    "\n",
    "new_train_loader = torch.utils.data.DataLoader(new_train_datadet, \n",
    "                                           batch_size=128,\n",
    "                                           shuffle=True,\n",
    "                                           num_workers=2)\n",
    "\n",
    "len(new_train_datadet)"
   ]
  },
  {
   "cell_type": "markdown",
   "metadata": {
    "id": "7X2RLLkZrbWv"
   },
   "source": [
    "Постороим модель, состоящую из четырёх линейных слоёв и содержащую около 400,000 обучаемых параметров."
   ]
  },
  {
   "cell_type": "code",
   "execution_count": null,
   "metadata": {
    "id": "H12uAWiGBwJx"
   },
   "outputs": [],
   "source": [
    "class OverfittingNeuralNetwork(nn.Module):\n",
    "    def __init__(self, input_shape=28*28, num_classes=10, input_channels=1):\n",
    "        super(self.__class__, self).__init__()\n",
    "        self.model = nn.Sequential(\n",
    "            nn.Flatten(), # This layer converts image into a vector to use Linear layers afterwards\n",
    "            # Your network structure comes here\n",
    "            nn.Linear(input_shape, 400),\n",
    "            nn.ReLU(),\n",
    "            nn.Linear(400, 200),\n",
    "            nn.ReLU(),\n",
    "            nn.Linear(200, 50),\n",
    "            nn.Sigmoid(),\n",
    "            nn.Linear(50, num_classes)\n",
    "        )\n",
    "        \n",
    "        \n",
    "    def forward(self, inp):       \n",
    "        out = self.model(inp)\n",
    "        return out   "
   ]
  },
  {
   "cell_type": "code",
   "execution_count": null,
   "metadata": {
    "colab": {
     "base_uri": "https://localhost:8080/"
    },
    "id": "JgXAKCpvCwqH",
    "outputId": "cc0d0853-edc6-49b4-abc0-f71fc7162c07"
   },
   "outputs": [
    {
     "name": "stdout",
     "output_type": "stream",
     "text": [
      "----------------------------------------------------------------\n",
      "        Layer (type)               Output Shape         Param #\n",
      "================================================================\n",
      "           Flatten-1                  [-1, 784]               0\n",
      "            Linear-2                  [-1, 400]         314,000\n",
      "              ReLU-3                  [-1, 400]               0\n",
      "            Linear-4                  [-1, 200]          80,200\n",
      "              ReLU-5                  [-1, 200]               0\n",
      "            Linear-6                   [-1, 50]          10,050\n",
      "           Sigmoid-7                   [-1, 50]               0\n",
      "            Linear-8                   [-1, 10]             510\n",
      "================================================================\n",
      "Total params: 404,760\n",
      "Trainable params: 404,760\n",
      "Non-trainable params: 0\n",
      "----------------------------------------------------------------\n",
      "Input size (MB): 0.00\n",
      "Forward/backward pass size (MB): 0.02\n",
      "Params size (MB): 1.54\n",
      "Estimated Total Size (MB): 1.56\n",
      "----------------------------------------------------------------\n"
     ]
    }
   ],
   "source": [
    "torchsummary.summary(OverfittingNeuralNetwork().to(device), (28*28,))"
   ]
  },
  {
   "cell_type": "code",
   "execution_count": null,
   "metadata": {
    "colab": {
     "base_uri": "https://localhost:8080/"
    },
    "id": "QgGPCtT4Yfu6",
    "outputId": "d7abb0cb-ed7c-4584-8494-832c5c213f5c"
   },
   "outputs": [
    {
     "name": "stdout",
     "output_type": "stream",
     "text": [
      "epoch = 0 0.77900390625\n",
      "epoch = 1 0.83427734375\n",
      "epoch = 2 0.84833984375\n",
      "epoch = 3 0.8556640625\n",
      "epoch = 4 0.86083984375\n",
      "epoch = 5 0.86318359375\n",
      "epoch = 6 0.8703125\n",
      "epoch = 7 0.875390625\n",
      "epoch = 8 0.876953125\n",
      "epoch = 9 0.88173828125\n",
      "epoch = 10 0.88173828125\n",
      "epoch = 11 0.8712890625\n",
      "epoch = 12 0.87548828125\n",
      "epoch = 13 0.8837890625\n",
      "epoch = 14 0.88798828125\n",
      "epoch = 15 0.88720703125\n",
      "epoch = 16 0.88671875\n",
      "epoch = 17 0.88994140625\n",
      "epoch = 18 0.88623046875\n",
      "epoch = 19 0.88828125\n",
      "epoch = 20 0.8900390625\n",
      "epoch = 21 0.88994140625\n",
      "epoch = 22 0.8904296875\n",
      "epoch = 23 0.89130859375\n",
      "epoch = 24 0.89404296875\n",
      "epoch = 25 0.89052734375\n",
      "epoch = 26 0.8921875\n",
      "epoch = 27 0.8876953125\n",
      "epoch = 28 0.894921875\n",
      "epoch = 29 0.88984375\n",
      "epoch = 30 0.892578125\n",
      "epoch = 31 0.8990234375\n",
      "epoch = 32 0.8951171875\n",
      "epoch = 33 0.89931640625\n",
      "epoch = 34 0.896875\n",
      "epoch = 35 0.8962890625\n",
      "epoch = 36 0.895703125\n",
      "epoch = 37 0.8970703125\n",
      "epoch = 38 0.8990234375\n",
      "epoch = 39 0.89873046875\n",
      "epoch = 40 0.895703125\n",
      "epoch = 41 0.89521484375\n",
      "epoch = 42 0.89658203125\n",
      "epoch = 43 0.896875\n",
      "epoch = 44 0.89912109375\n",
      "epoch = 45 0.89716796875\n",
      "epoch = 46 0.89716796875\n",
      "epoch = 47 0.894921875\n",
      "epoch = 48 0.89521484375\n",
      "epoch = 49 0.8947265625\n",
      "epoch = 50 0.88681640625\n",
      "epoch = 51 0.89697265625\n",
      "epoch = 52 0.89736328125\n",
      "epoch = 53 0.89716796875\n",
      "epoch = 54 0.8984375\n",
      "epoch = 55 0.8966796875\n",
      "epoch = 56 0.8970703125\n",
      "epoch = 57 0.898828125\n",
      "epoch = 58 0.8984375\n",
      "epoch = 59 0.89716796875\n",
      "epoch = 60 0.89794921875\n",
      "epoch = 61 0.8984375\n",
      "epoch = 62 0.89580078125\n",
      "epoch = 63 0.89091796875\n",
      "epoch = 64 0.8978515625\n",
      "epoch = 65 0.8984375\n",
      "epoch = 66 0.89609375\n",
      "epoch = 67 0.8966796875\n",
      "epoch = 68 0.8984375\n",
      "epoch = 69 0.8984375\n",
      "epoch = 70 0.89658203125\n",
      "epoch = 71 0.89755859375\n",
      "epoch = 72 0.89453125\n",
      "epoch = 73 0.8974609375\n",
      "epoch = 74 0.89443359375\n",
      "epoch = 75 0.8900390625\n",
      "epoch = 76 0.896484375\n",
      "epoch = 77 0.90029296875\n",
      "epoch = 78 0.89775390625\n",
      "epoch = 79 0.89716796875\n",
      "epoch = 80 0.89541015625\n",
      "epoch = 81 0.8931640625\n",
      "epoch = 82 0.89697265625\n",
      "epoch = 83 0.89609375\n",
      "epoch = 84 0.8970703125\n",
      "epoch = 85 0.89716796875\n",
      "epoch = 86 0.89443359375\n",
      "epoch = 87 0.89306640625\n",
      "epoch = 88 0.8947265625\n",
      "epoch = 89 0.89423828125\n",
      "epoch = 90 0.8947265625\n",
      "epoch = 91 0.89697265625\n",
      "epoch = 92 0.89501953125\n",
      "epoch = 93 0.896875\n",
      "epoch = 94 0.89462890625\n",
      "epoch = 95 0.89169921875\n",
      "epoch = 96 0.89150390625\n",
      "epoch = 97 0.898828125\n",
      "epoch = 98 0.900390625\n",
      "epoch = 99 0.89931640625\n",
      "epoch = 100 0.8958984375\n",
      "epoch = 101 0.90029296875\n",
      "epoch = 102 0.8875\n",
      "epoch = 103 0.893359375\n",
      "epoch = 104 0.89765625\n",
      "epoch = 105 0.893359375\n",
      "epoch = 106 0.90009765625\n",
      "epoch = 107 0.89384765625\n",
      "epoch = 108 0.89912109375\n",
      "epoch = 109 0.8986328125\n",
      "epoch = 110 0.8955078125\n",
      "epoch = 111 0.89853515625\n",
      "epoch = 112 0.89287109375\n",
      "epoch = 113 0.89296875\n",
      "epoch = 114 0.90126953125\n",
      "epoch = 115 0.89130859375\n",
      "epoch = 116 0.89755859375\n",
      "epoch = 117 0.89541015625\n",
      "epoch = 118 0.898828125\n",
      "epoch = 119 0.891796875\n"
     ]
    }
   ],
   "source": [
    "test_accuracy = []\n",
    "test_loss = []\n",
    "train_accuracy = []\n",
    "train_loss = []\n",
    "\n",
    "net = OverfittingNeuralNetwork().to(device)\n",
    "opt = torch.optim.Adam(net.parameters(), lr=3.0e-4) # YOUR CODE HERE\n",
    "loss = torch.nn.CrossEntropyLoss() # YOUR CODE HERE\n",
    "\n",
    "main_loop(120, test_accuracy, test_loss, train_accuracy, train_loss)"
   ]
  },
  {
   "cell_type": "code",
   "execution_count": null,
   "metadata": {
    "colab": {
     "base_uri": "https://localhost:8080/",
     "height": 704
    },
    "id": "ES77wrJurs-4",
    "outputId": "a2c3f338-ace8-476b-f6bd-70f73676a72a"
   },
   "outputs": [
    {
     "data": {
      "image/png": "[encoded data removed]",
      "text/plain": [
       "<Figure size 1152x864 with 1 Axes>"
      ]
     },
     "metadata": {
      "needs_background": "light",
      "tags": []
     },
     "output_type": "display_data"
    }
   ],
   "source": [
    "plot_loss_accuracy_history(test_accuracy, test_loss, train_accuracy, train_loss)"
   ]
  },
  {
   "cell_type": "markdown",
   "metadata": {
    "id": "8CUfSEQ5rwq3"
   },
   "source": [
    "Функция потерь падает на тренировочной части датасета, но начинает возрастать после 30 эпох на тестовой части датасета. Кроме того accuracy приближается к 1 на тренировочной части датасета. Следовательно, модель переобучилась."
   ]
  },
  {
   "cell_type": "markdown",
   "metadata": {
    "id": "JRZcL5WG6siZ"
   },
   "source": []
  },
  {
   "cell_type": "markdown",
   "metadata": {
    "id": "mYFi7u_2KzTz"
   },
   "source": [
    "### Task 3: Fix it.\n",
    "Fix the overfitted network from the previous step (at least partially) by using regularization techniques (Dropout/Batchnorm/...) and demonstrate the results. "
   ]
  },
  {
   "cell_type": "markdown",
   "metadata": {
    "id": "CbGCGyJYsDWX"
   },
   "source": [
    "Для устранения эффекта переобучения добавим слои DropOut и слои BatchNormalization. "
   ]
  },
  {
   "cell_type": "code",
   "execution_count": null,
   "metadata": {
    "id": "7kwBKuD5KzTz"
   },
   "outputs": [],
   "source": [
    "class FixedNeuralNetwork(nn.Module):\n",
    "    def __init__(self, input_shape=28*28, num_classes=10, input_channels=1):\n",
    "        super(self.__class__, self).__init__()\n",
    "        self.model = nn.Sequential(\n",
    "            nn.Flatten(), # This layer converts image into a vector to use Linear layers afterwards\n",
    "            # Your network structure comes here\n",
    "            nn.Dropout(p=0.4),\n",
    "            nn.Linear(input_shape, 400),\n",
    "            nn.BatchNorm1d(400),\n",
    "            nn.ReLU(),\n",
    "            nn.Dropout(p=0.3),\n",
    "            nn.Linear(400, 200),\n",
    "            nn.BatchNorm1d(200),\n",
    "            nn.ReLU(),\n",
    "            nn.Dropout(p=0.3),\n",
    "            nn.Linear(200, 50),\n",
    "            nn.BatchNorm1d(50),\n",
    "            nn.Sigmoid(),\n",
    "            nn.Dropout(p=0.2),\n",
    "            nn.Linear(50, num_classes)\n",
    "        )\n",
    "        \n",
    "    def forward(self, inp):    \n",
    "        out = self.model(inp)\n",
    "        return out"
   ]
  },
  {
   "cell_type": "code",
   "execution_count": null,
   "metadata": {
    "colab": {
     "base_uri": "https://localhost:8080/"
    },
    "id": "3kLpUhXpKzTz",
    "outputId": "6e7761c8-79eb-4810-b2c2-7c68885a2312"
   },
   "outputs": [
    {
     "name": "stdout",
     "output_type": "stream",
     "text": [
      "----------------------------------------------------------------\n",
      "        Layer (type)               Output Shape         Param #\n",
      "================================================================\n",
      "           Flatten-1                  [-1, 784]               0\n",
      "           Dropout-2                  [-1, 784]               0\n",
      "            Linear-3                  [-1, 400]         314,000\n",
      "       BatchNorm1d-4                  [-1, 400]             800\n",
      "              ReLU-5                  [-1, 400]               0\n",
      "           Dropout-6                  [-1, 400]               0\n",
      "            Linear-7                  [-1, 200]          80,200\n",
      "       BatchNorm1d-8                  [-1, 200]             400\n",
      "              ReLU-9                  [-1, 200]               0\n",
      "          Dropout-10                  [-1, 200]               0\n",
      "           Linear-11                   [-1, 50]          10,050\n",
      "      BatchNorm1d-12                   [-1, 50]             100\n",
      "          Sigmoid-13                   [-1, 50]               0\n",
      "          Dropout-14                   [-1, 50]               0\n",
      "           Linear-15                   [-1, 10]             510\n",
      "================================================================\n",
      "Total params: 406,060\n",
      "Trainable params: 406,060\n",
      "Non-trainable params: 0\n",
      "----------------------------------------------------------------\n",
      "Input size (MB): 0.00\n",
      "Forward/backward pass size (MB): 0.03\n",
      "Params size (MB): 1.55\n",
      "Estimated Total Size (MB): 1.58\n",
      "----------------------------------------------------------------\n"
     ]
    }
   ],
   "source": [
    "torchsummary.summary(FixedNeuralNetwork().to(device), (28*28,))"
   ]
  },
  {
   "cell_type": "code",
   "execution_count": null,
   "metadata": {
    "colab": {
     "base_uri": "https://localhost:8080/"
    },
    "id": "PfmA9NmQKzTz",
    "outputId": "fe27d717-98ca-4a3c-eda1-7ebbf11da3f8"
   },
   "outputs": [
    {
     "name": "stdout",
     "output_type": "stream",
     "text": [
      "epoch = 0 0.77275390625\n",
      "epoch = 1 0.8\n",
      "epoch = 2 0.80068359375\n",
      "epoch = 3 0.81875\n",
      "epoch = 4 0.8234375\n",
      "epoch = 5 0.82373046875\n",
      "epoch = 6 0.82900390625\n",
      "epoch = 7 0.83447265625\n",
      "epoch = 8 0.83603515625\n",
      "epoch = 9 0.8337890625\n",
      "epoch = 10 0.84013671875\n",
      "epoch = 11 0.842578125\n",
      "epoch = 12 0.8412109375\n",
      "epoch = 13 0.84677734375\n",
      "epoch = 14 0.8427734375\n",
      "epoch = 15 0.84501953125\n",
      "epoch = 16 0.84892578125\n",
      "epoch = 17 0.8466796875\n",
      "epoch = 18 0.8484375\n",
      "epoch = 19 0.8427734375\n",
      "epoch = 20 0.844921875\n",
      "epoch = 21 0.84794921875\n",
      "epoch = 22 0.85517578125\n",
      "epoch = 23 0.84990234375\n",
      "epoch = 24 0.85068359375\n",
      "epoch = 25 0.8509765625\n",
      "epoch = 26 0.854296875\n",
      "epoch = 27 0.848828125\n",
      "epoch = 28 0.85166015625\n",
      "epoch = 29 0.8515625\n",
      "epoch = 30 0.84931640625\n",
      "epoch = 31 0.851953125\n",
      "epoch = 32 0.8572265625\n",
      "epoch = 33 0.85283203125\n",
      "epoch = 34 0.84970703125\n",
      "epoch = 35 0.8572265625\n",
      "epoch = 36 0.85498046875\n",
      "epoch = 37 0.8556640625\n",
      "epoch = 38 0.85537109375\n",
      "epoch = 39 0.855078125\n",
      "epoch = 40 0.8572265625\n",
      "epoch = 41 0.85400390625\n",
      "epoch = 42 0.8580078125\n",
      "epoch = 43 0.85546875\n",
      "epoch = 44 0.85810546875\n",
      "epoch = 45 0.8591796875\n",
      "epoch = 46 0.85830078125\n",
      "epoch = 47 0.8583984375\n",
      "epoch = 48 0.86162109375\n",
      "epoch = 49 0.86025390625\n",
      "epoch = 50 0.85693359375\n",
      "epoch = 51 0.8630859375\n",
      "epoch = 52 0.859765625\n",
      "epoch = 53 0.8568359375\n",
      "epoch = 54 0.86064453125\n",
      "epoch = 55 0.8560546875\n",
      "epoch = 56 0.85546875\n",
      "epoch = 57 0.8583984375\n",
      "epoch = 58 0.8609375\n",
      "epoch = 59 0.858984375\n",
      "epoch = 60 0.85947265625\n",
      "epoch = 61 0.859375\n",
      "epoch = 62 0.86123046875\n",
      "epoch = 63 0.8623046875\n",
      "epoch = 64 0.86201171875\n",
      "epoch = 65 0.86396484375\n",
      "epoch = 66 0.8625\n",
      "epoch = 67 0.86220703125\n",
      "epoch = 68 0.8603515625\n",
      "epoch = 69 0.86533203125\n",
      "epoch = 70 0.86162109375\n",
      "epoch = 71 0.86669921875\n",
      "epoch = 72 0.86455078125\n",
      "epoch = 73 0.86328125\n",
      "epoch = 74 0.85927734375\n",
      "epoch = 75 0.86328125\n",
      "epoch = 76 0.863671875\n",
      "epoch = 77 0.86279296875\n",
      "epoch = 78 0.86005859375\n",
      "epoch = 79 0.86142578125\n",
      "epoch = 80 0.86845703125\n",
      "epoch = 81 0.8607421875\n",
      "epoch = 82 0.86103515625\n",
      "epoch = 83 0.865625\n",
      "epoch = 84 0.862109375\n",
      "epoch = 85 0.86318359375\n",
      "epoch = 86 0.86484375\n",
      "epoch = 87 0.8603515625\n",
      "epoch = 88 0.86572265625\n",
      "epoch = 89 0.86171875\n",
      "epoch = 90 0.86494140625\n",
      "epoch = 91 0.86337890625\n",
      "epoch = 92 0.8630859375\n",
      "epoch = 93 0.86171875\n",
      "epoch = 94 0.8626953125\n",
      "epoch = 95 0.8669921875\n",
      "epoch = 96 0.8603515625\n",
      "epoch = 97 0.86484375\n",
      "epoch = 98 0.86318359375\n",
      "epoch = 99 0.86640625\n",
      "epoch = 100 0.86923828125\n",
      "epoch = 101 0.86015625\n",
      "epoch = 102 0.86474609375\n",
      "epoch = 103 0.8642578125\n",
      "epoch = 104 0.86484375\n",
      "epoch = 105 0.8615234375\n",
      "epoch = 106 0.86572265625\n",
      "epoch = 107 0.863671875\n",
      "epoch = 108 0.8681640625\n",
      "epoch = 109 0.87001953125\n",
      "epoch = 110 0.87041015625\n",
      "epoch = 111 0.87041015625\n",
      "epoch = 112 0.864453125\n",
      "epoch = 113 0.86494140625\n",
      "epoch = 114 0.86845703125\n",
      "epoch = 115 0.86552734375\n",
      "epoch = 116 0.8642578125\n",
      "epoch = 117 0.86953125\n",
      "epoch = 118 0.86494140625\n",
      "epoch = 119 0.87021484375\n"
     ]
    }
   ],
   "source": [
    "test_accuracy = []\n",
    "test_loss = []\n",
    "train_accuracy = []\n",
    "train_loss = []\n",
    "\n",
    "net = FixedNeuralNetwork().to(device)\n",
    "opt = torch.optim.Adam(net.parameters(), lr=3.0e-4) # YOUR CODE HERE\n",
    "loss = torch.nn.CrossEntropyLoss() # YOUR CODE HERE\n",
    "\n",
    "main_loop(120, test_accuracy, test_loss, train_accuracy, train_loss)"
   ]
  },
  {
   "cell_type": "code",
   "execution_count": null,
   "metadata": {
    "colab": {
     "base_uri": "https://localhost:8080/",
     "height": 700
    },
    "id": "nTCye_LGsTot",
    "outputId": "405a3ae7-924c-4be6-8924-64ec1ade5e40"
   },
   "outputs": [
    {
     "data": {
      "image/png": "[encoded data removed]",
      "text/plain": [
       "<Figure size 1152x864 with 1 Axes>"
      ]
     },
     "metadata": {
      "needs_background": "light",
      "tags": []
     },
     "output_type": "display_data"
    }
   ],
   "source": [
    "plot_loss_accuracy_history(test_accuracy, test_loss, train_accuracy, train_loss)"
   ]
  },
  {
   "cell_type": "markdown",
   "metadata": {
    "id": "dMui_uLJ7G0d"
   },
   "source": [
    "### Conclusions:\n",
    "_Write down small report with your conclusions and your ideas._"
   ]
  },
  {
   "cell_type": "markdown",
   "metadata": {
    "id": "6VD8aXoegkhI"
   },
   "source": [
    "1) Нейронная сеть, состоящая из двух линейных слоёв и содержащая около 80,000 параметров, достатачно медленно обучается, но не достигает момента переобучения за 100 эпох обучения. (P.S для обучения использовался весь датасет train)\n",
    "\n",
    "2) Нейронная сеть, состоящая из четырёх линейных слоёв и содержащая около 400,000 параметров, достатачно быстро обучается, но достигает момента переобучения уже на 30-ой эпохе. Это видного из того, что значение loss функции на тренировочной выборке падает, а на тестовой растёт - то есть модель просто запоминает датасет. (P.S для обучения использовалась треть датасета train)\n",
    "\n",
    "3) Избежать переобучения помогает использование Dropout, который \"выключает некоторые нейроны\" с заданной вероятностью и слоёв нормализации BatchNorm, которые нормируют и центрируют данные. В итоге, сеть из предыдущего пункта не достигает момента переобучения даже после 120 эпох обучения (хотя раньше достигала уже на 30-ой). Это видно из того, что график loss функции убывает как на тренировочной части датасета так и на тестовой части датасета. "
   ]
  }
 ],
 "metadata": {
  "accelerator": "GPU",
  "colab": {
   "collapsed_sections": [],
   "name": "Копия блокнота \"Overfit it.ipynb\"",
   "provenance": []
  },
  "kernelspec": {
   "display_name": "Python 3",
   "language": "python",
   "name": "python3"
  },
  "language_info": {
   "codemirror_mode": {
    "name": "ipython",
    "version": 3
   },
   "file_extension": ".py",
   "mimetype": "text/x-python",
   "name": "python",
   "nbconvert_exporter": "python",
   "pygments_lexer": "ipython3",
   "version": "3.7.3"
  },
  "widgets": {
   "application/vnd.jupyter.widget-state+json": {
    "0798883486da478aa53ebe133b7921e8": {
     "model_module": "@jupyter-widgets/base",
     "model_name": "LayoutModel",
     "state": {
      "_model_module": "@jupyter-widgets/base",
      "_model_module_version": "1.2.0",
      "_model_name": "LayoutModel",
      "_view_count": null,
      "_view_module": "@jupyter-widgets/base",
      "_view_module_version": "1.2.0",
      "_view_name": "LayoutView",
      "align_content": null,
      "align_items": null,
      "align_self": null,
      "border": null,
      "bottom": null,
      "display": null,
      "flex": null,
      "flex_flow": null,
      "grid_area": null,
      "grid_auto_columns": null,
      "grid_auto_flow": null,
      "grid_auto_rows": null,
      "grid_column": null,
      "grid_gap": null,
      "grid_row": null,
      "grid_template_areas": null,
      "grid_template_columns": null,
      "grid_template_rows": null,
      "height": null,
      "justify_content": null,
      "justify_items": null,
      "left": null,
      "margin": null,
      "max_height": null,
      "max_width": null,
      "min_height": null,
      "min_width": null,
      "object_fit": null,
      "object_position": null,
      "order": null,
      "overflow": null,
      "overflow_x": null,
      "overflow_y": null,
      "padding": null,
      "right": null,
      "top": null,
      "visibility": null,
      "width": null
     }
    },
    "23b502d7a2634c91b1f5a81d4655df9d": {
     "model_module": "@jupyter-widgets/base",
     "model_name": "LayoutModel",
     "state": {
      "_model_module": "@jupyter-widgets/base",
      "_model_module_version": "1.2.0",
      "_model_name": "LayoutModel",
      "_view_count": null,
      "_view_module": "@jupyter-widgets/base",
      "_view_module_version": "1.2.0",
      "_view_name": "LayoutView",
      "align_content": null,
      "align_items": null,
      "align_self": null,
      "border": null,
      "bottom": null,
      "display": null,
      "flex": null,
      "flex_flow": null,
      "grid_area": null,
      "grid_auto_columns": null,
      "grid_auto_flow": null,
      "grid_auto_rows": null,
      "grid_column": null,
      "grid_gap": null,
      "grid_row": null,
      "grid_template_areas": null,
      "grid_template_columns": null,
      "grid_template_rows": null,
      "height": null,
      "justify_content": null,
      "justify_items": null,
      "left": null,
      "margin": null,
      "max_height": null,
      "max_width": null,
      "min_height": null,
      "min_width": null,
      "object_fit": null,
      "object_position": null,
      "order": null,
      "overflow": null,
      "overflow_x": null,
      "overflow_y": null,
      "padding": null,
      "right": null,
      "top": null,
      "visibility": null,
      "width": null
     }
    },
    "2b1d1878991c466bb72004ca633d9c4f": {
     "model_module": "@jupyter-widgets/controls",
     "model_name": "FloatProgressModel",
     "state": {
      "_dom_classes": [],
      "_model_module": "@jupyter-widgets/controls",
      "_model_module_version": "1.5.0",
      "_model_name": "FloatProgressModel",
      "_view_count": null,
      "_view_module": "@jupyter-widgets/controls",
      "_view_module_version": "1.5.0",
      "_view_name": "ProgressView",
      "bar_style": "info",
      "description": "",
      "description_tooltip": null,
      "layout": "IPY_MODEL_f75d8937b92045049f2f52e21aefb1c7",
      "max": 1,
      "min": 0,
      "orientation": "horizontal",
      "style": "IPY_MODEL_455eb4744cc24aa4b9b06c36e5b0b1c4",
      "value": 1
     }
    },
    "2f7203678b2f4338b4c95f0ba0e8c37e": {
     "model_module": "@jupyter-widgets/controls",
     "model_name": "FloatProgressModel",
     "state": {
      "_dom_classes": [],
      "_model_module": "@jupyter-widgets/controls",
      "_model_module_version": "1.5.0",
      "_model_name": "FloatProgressModel",
      "_view_count": null,
      "_view_module": "@jupyter-widgets/controls",
      "_view_module_version": "1.5.0",
      "_view_name": "ProgressView",
      "bar_style": "info",
      "description": "",
      "description_tooltip": null,
      "layout": "IPY_MODEL_f88c86c503ca4ebe8420c4b71d997601",
      "max": 1,
      "min": 0,
      "orientation": "horizontal",
      "style": "IPY_MODEL_6c4c78ebb4e34284a99b08059a0d734a",
      "value": 1
     }
    },
    "397237db90b14f85943ef209f363c265": {
     "model_module": "@jupyter-widgets/controls",
     "model_name": "HBoxModel",
     "state": {
      "_dom_classes": [],
      "_model_module": "@jupyter-widgets/controls",
      "_model_module_version": "1.5.0",
      "_model_name": "HBoxModel",
      "_view_count": null,
      "_view_module": "@jupyter-widgets/controls",
      "_view_module_version": "1.5.0",
      "_view_name": "HBoxView",
      "box_style": "",
      "children": [
       "IPY_MODEL_c5395cffb7bb4a5bafc8a557e4055706",
       "IPY_MODEL_dbd80215b5d24f96bdc9c3c312d72099"
      ],
      "layout": "IPY_MODEL_23b502d7a2634c91b1f5a81d4655df9d"
     }
    },
    "3d4ed7f910fd41d6aa93249515de6981": {
     "model_module": "@jupyter-widgets/controls",
     "model_name": "HBoxModel",
     "state": {
      "_dom_classes": [],
      "_model_module": "@jupyter-widgets/controls",
      "_model_module_version": "1.5.0",
      "_model_name": "HBoxModel",
      "_view_count": null,
      "_view_module": "@jupyter-widgets/controls",
      "_view_module_version": "1.5.0",
      "_view_name": "HBoxView",
      "box_style": "",
      "children": [
       "IPY_MODEL_2b1d1878991c466bb72004ca633d9c4f",
       "IPY_MODEL_981aa28012c34b4dae1a02e189650f0c"
      ],
      "layout": "IPY_MODEL_0798883486da478aa53ebe133b7921e8"
     }
    },
    "455eb4744cc24aa4b9b06c36e5b0b1c4": {
     "model_module": "@jupyter-widgets/controls",
     "model_name": "ProgressStyleModel",
     "state": {
      "_model_module": "@jupyter-widgets/controls",
      "_model_module_version": "1.5.0",
      "_model_name": "ProgressStyleModel",
      "_view_count": null,
      "_view_module": "@jupyter-widgets/base",
      "_view_module_version": "1.2.0",
      "_view_name": "StyleView",
      "bar_color": null,
      "description_width": "initial"
     }
    },
    "46d697d4779e419b9c9873714ebec231": {
     "model_module": "@jupyter-widgets/base",
     "model_name": "LayoutModel",
     "state": {
      "_model_module": "@jupyter-widgets/base",
      "_model_module_version": "1.2.0",
      "_model_name": "LayoutModel",
      "_view_count": null,
      "_view_module": "@jupyter-widgets/base",
      "_view_module_version": "1.2.0",
      "_view_name": "LayoutView",
      "align_content": null,
      "align_items": null,
      "align_self": null,
      "border": null,
      "bottom": null,
      "display": null,
      "flex": null,
      "flex_flow": null,
      "grid_area": null,
      "grid_auto_columns": null,
      "grid_auto_flow": null,
      "grid_auto_rows": null,
      "grid_column": null,
      "grid_gap": null,
      "grid_row": null,
      "grid_template_areas": null,
      "grid_template_columns": null,
      "grid_template_rows": null,
      "height": null,
      "justify_content": null,
      "justify_items": null,
      "left": null,
      "margin": null,
      "max_height": null,
      "max_width": null,
      "min_height": null,
      "min_width": null,
      "object_fit": null,
      "object_position": null,
      "order": null,
      "overflow": null,
      "overflow_x": null,
      "overflow_y": null,
      "padding": null,
      "right": null,
      "top": null,
      "visibility": null,
      "width": null
     }
    },
    "4d51a562ed45404b9e70239906ca2faa": {
     "model_module": "@jupyter-widgets/base",
     "model_name": "LayoutModel",
     "state": {
      "_model_module": "@jupyter-widgets/base",
      "_model_module_version": "1.2.0",
      "_model_name": "LayoutModel",
      "_view_count": null,
      "_view_module": "@jupyter-widgets/base",
      "_view_module_version": "1.2.0",
      "_view_name": "LayoutView",
      "align_content": null,
      "align_items": null,
      "align_self": null,
      "border": null,
      "bottom": null,
      "display": null,
      "flex": null,
      "flex_flow": null,
      "grid_area": null,
      "grid_auto_columns": null,
      "grid_auto_flow": null,
      "grid_auto_rows": null,
      "grid_column": null,
      "grid_gap": null,
      "grid_row": null,
      "grid_template_areas": null,
      "grid_template_columns": null,
      "grid_template_rows": null,
      "height": null,
      "justify_content": null,
      "justify_items": null,
      "left": null,
      "margin": null,
      "max_height": null,
      "max_width": null,
      "min_height": null,
      "min_width": null,
      "object_fit": null,
      "object_position": null,
      "order": null,
      "overflow": null,
      "overflow_x": null,
      "overflow_y": null,
      "padding": null,
      "right": null,
      "top": null,
      "visibility": null,
      "width": null
     }
    },
    "6c4c78ebb4e34284a99b08059a0d734a": {
     "model_module": "@jupyter-widgets/controls",
     "model_name": "ProgressStyleModel",
     "state": {
      "_model_module": "@jupyter-widgets/controls",
      "_model_module_version": "1.5.0",
      "_model_name": "ProgressStyleModel",
      "_view_count": null,
      "_view_module": "@jupyter-widgets/base",
      "_view_module_version": "1.2.0",
      "_view_name": "StyleView",
      "bar_color": null,
      "description_width": "initial"
     }
    },
    "6d2ef40fe82545a5ab555db4284dae82": {
     "model_module": "@jupyter-widgets/controls",
     "model_name": "DescriptionStyleModel",
     "state": {
      "_model_module": "@jupyter-widgets/controls",
      "_model_module_version": "1.5.0",
      "_model_name": "DescriptionStyleModel",
      "_view_count": null,
      "_view_module": "@jupyter-widgets/base",
      "_view_module_version": "1.2.0",
      "_view_name": "StyleView",
      "description_width": ""
     }
    },
    "6d99442761384761adeee0cf17cfde21": {
     "model_module": "@jupyter-widgets/base",
     "model_name": "LayoutModel",
     "state": {
      "_model_module": "@jupyter-widgets/base",
      "_model_module_version": "1.2.0",
      "_model_name": "LayoutModel",
      "_view_count": null,
      "_view_module": "@jupyter-widgets/base",
      "_view_module_version": "1.2.0",
      "_view_name": "LayoutView",
      "align_content": null,
      "align_items": null,
      "align_self": null,
      "border": null,
      "bottom": null,
      "display": null,
      "flex": null,
      "flex_flow": null,
      "grid_area": null,
      "grid_auto_columns": null,
      "grid_auto_flow": null,
      "grid_auto_rows": null,
      "grid_column": null,
      "grid_gap": null,
      "grid_row": null,
      "grid_template_areas": null,
      "grid_template_columns": null,
      "grid_template_rows": null,
      "height": null,
      "justify_content": null,
      "justify_items": null,
      "left": null,
      "margin": null,
      "max_height": null,
      "max_width": null,
      "min_height": null,
      "min_width": null,
      "object_fit": null,
      "object_position": null,
      "order": null,
      "overflow": null,
      "overflow_x": null,
      "overflow_y": null,
      "padding": null,
      "right": null,
      "top": null,
      "visibility": null,
      "width": null
     }
    },
    "7271cba0ef374c4bac9e4bc3dfca09f9": {
     "model_module": "@jupyter-widgets/base",
     "model_name": "LayoutModel",
     "state": {
      "_model_module": "@jupyter-widgets/base",
      "_model_module_version": "1.2.0",
      "_model_name": "LayoutModel",
      "_view_count": null,
      "_view_module": "@jupyter-widgets/base",
      "_view_module_version": "1.2.0",
      "_view_name": "LayoutView",
      "align_content": null,
      "align_items": null,
      "align_self": null,
      "border": null,
      "bottom": null,
      "display": null,
      "flex": null,
      "flex_flow": null,
      "grid_area": null,
      "grid_auto_columns": null,
      "grid_auto_flow": null,
      "grid_auto_rows": null,
      "grid_column": null,
      "grid_gap": null,
      "grid_row": null,
      "grid_template_areas": null,
      "grid_template_columns": null,
      "grid_template_rows": null,
      "height": null,
      "justify_content": null,
      "justify_items": null,
      "left": null,
      "margin": null,
      "max_height": null,
      "max_width": null,
      "min_height": null,
      "min_width": null,
      "object_fit": null,
      "object_position": null,
      "order": null,
      "overflow": null,
      "overflow_x": null,
      "overflow_y": null,
      "padding": null,
      "right": null,
      "top": null,
      "visibility": null,
      "width": null
     }
    },
    "73937ba582ee4a52bd6f3dc1612cc72f": {
     "model_module": "@jupyter-widgets/controls",
     "model_name": "DescriptionStyleModel",
     "state": {
      "_model_module": "@jupyter-widgets/controls",
      "_model_module_version": "1.5.0",
      "_model_name": "DescriptionStyleModel",
      "_view_count": null,
      "_view_module": "@jupyter-widgets/base",
      "_view_module_version": "1.2.0",
      "_view_name": "StyleView",
      "description_width": ""
     }
    },
    "821a9e0e367e4062a9269ad794c0b997": {
     "model_module": "@jupyter-widgets/controls",
     "model_name": "HTMLModel",
     "state": {
      "_dom_classes": [],
      "_model_module": "@jupyter-widgets/controls",
      "_model_module_version": "1.5.0",
      "_model_name": "HTMLModel",
      "_view_count": null,
      "_view_module": "@jupyter-widgets/controls",
      "_view_module_version": "1.5.0",
      "_view_name": "HTMLView",
      "description": "",
      "description_tooltip": null,
      "layout": "IPY_MODEL_a606d973f6734372aec3a9c966e253e6",
      "placeholder": "​",
      "style": "IPY_MODEL_6d2ef40fe82545a5ab555db4284dae82",
      "value": " 0/5148 [00:00&lt;?, ?it/s]"
     }
    },
    "90f3d1c137284fe28fadadaa82fde49d": {
     "model_module": "@jupyter-widgets/controls",
     "model_name": "HTMLModel",
     "state": {
      "_dom_classes": [],
      "_model_module": "@jupyter-widgets/controls",
      "_model_module_version": "1.5.0",
      "_model_name": "HTMLModel",
      "_view_count": null,
      "_view_module": "@jupyter-widgets/controls",
      "_view_module_version": "1.5.0",
      "_view_name": "HTMLView",
      "description": "",
      "description_tooltip": null,
      "layout": "IPY_MODEL_b42b3ed0a4be467fa607d0b084a02185",
      "placeholder": "​",
      "style": "IPY_MODEL_ce7e6bee03b94c8bb123e1c805b9bf0a",
      "value": " 32768/? [00:14&lt;00:00, 60481.05it/s]"
     }
    },
    "91940323ae5d4bb1a35101c25e14f308": {
     "model_module": "@jupyter-widgets/controls",
     "model_name": "DescriptionStyleModel",
     "state": {
      "_model_module": "@jupyter-widgets/controls",
      "_model_module_version": "1.5.0",
      "_model_name": "DescriptionStyleModel",
      "_view_count": null,
      "_view_module": "@jupyter-widgets/base",
      "_view_module_version": "1.2.0",
      "_view_name": "StyleView",
      "description_width": ""
     }
    },
    "92b57062b2d345e3a4f3085c0a089e7e": {
     "model_module": "@jupyter-widgets/controls",
     "model_name": "FloatProgressModel",
     "state": {
      "_dom_classes": [],
      "_model_module": "@jupyter-widgets/controls",
      "_model_module_version": "1.5.0",
      "_model_name": "FloatProgressModel",
      "_view_count": null,
      "_view_module": "@jupyter-widgets/controls",
      "_view_module_version": "1.5.0",
      "_view_name": "ProgressView",
      "bar_style": "info",
      "description": "  0%",
      "description_tooltip": null,
      "layout": "IPY_MODEL_7271cba0ef374c4bac9e4bc3dfca09f9",
      "max": 1,
      "min": 0,
      "orientation": "horizontal",
      "style": "IPY_MODEL_d20276b0e758439fb80d6055178f11c7",
      "value": 0
     }
    },
    "981aa28012c34b4dae1a02e189650f0c": {
     "model_module": "@jupyter-widgets/controls",
     "model_name": "HTMLModel",
     "state": {
      "_dom_classes": [],
      "_model_module": "@jupyter-widgets/controls",
      "_model_module_version": "1.5.0",
      "_model_name": "HTMLModel",
      "_view_count": null,
      "_view_module": "@jupyter-widgets/controls",
      "_view_module_version": "1.5.0",
      "_view_name": "HTMLView",
      "description": "",
      "description_tooltip": null,
      "layout": "IPY_MODEL_46d697d4779e419b9c9873714ebec231",
      "placeholder": "​",
      "style": "IPY_MODEL_91940323ae5d4bb1a35101c25e14f308",
      "value": " 26427392/? [00:20&lt;00:00, 11171621.12it/s]"
     }
    },
    "a606d973f6734372aec3a9c966e253e6": {
     "model_module": "@jupyter-widgets/base",
     "model_name": "LayoutModel",
     "state": {
      "_model_module": "@jupyter-widgets/base",
      "_model_module_version": "1.2.0",
      "_model_name": "LayoutModel",
      "_view_count": null,
      "_view_module": "@jupyter-widgets/base",
      "_view_module_version": "1.2.0",
      "_view_name": "LayoutView",
      "align_content": null,
      "align_items": null,
      "align_self": null,
      "border": null,
      "bottom": null,
      "display": null,
      "flex": null,
      "flex_flow": null,
      "grid_area": null,
      "grid_auto_columns": null,
      "grid_auto_flow": null,
      "grid_auto_rows": null,
      "grid_column": null,
      "grid_gap": null,
      "grid_row": null,
      "grid_template_areas": null,
      "grid_template_columns": null,
      "grid_template_rows": null,
      "height": null,
      "justify_content": null,
      "justify_items": null,
      "left": null,
      "margin": null,
      "max_height": null,
      "max_width": null,
      "min_height": null,
      "min_width": null,
      "object_fit": null,
      "object_position": null,
      "order": null,
      "overflow": null,
      "overflow_x": null,
      "overflow_y": null,
      "padding": null,
      "right": null,
      "top": null,
      "visibility": null,
      "width": null
     }
    },
    "a62959e80cde4944890d7a87f79ba6a2": {
     "model_module": "@jupyter-widgets/controls",
     "model_name": "ProgressStyleModel",
     "state": {
      "_model_module": "@jupyter-widgets/controls",
      "_model_module_version": "1.5.0",
      "_model_name": "ProgressStyleModel",
      "_view_count": null,
      "_view_module": "@jupyter-widgets/base",
      "_view_module_version": "1.2.0",
      "_view_name": "StyleView",
      "bar_color": null,
      "description_width": "initial"
     }
    },
    "b42b3ed0a4be467fa607d0b084a02185": {
     "model_module": "@jupyter-widgets/base",
     "model_name": "LayoutModel",
     "state": {
      "_model_module": "@jupyter-widgets/base",
      "_model_module_version": "1.2.0",
      "_model_name": "LayoutModel",
      "_view_count": null,
      "_view_module": "@jupyter-widgets/base",
      "_view_module_version": "1.2.0",
      "_view_name": "LayoutView",
      "align_content": null,
      "align_items": null,
      "align_self": null,
      "border": null,
      "bottom": null,
      "display": null,
      "flex": null,
      "flex_flow": null,
      "grid_area": null,
      "grid_auto_columns": null,
      "grid_auto_flow": null,
      "grid_auto_rows": null,
      "grid_column": null,
      "grid_gap": null,
      "grid_row": null,
      "grid_template_areas": null,
      "grid_template_columns": null,
      "grid_template_rows": null,
      "height": null,
      "justify_content": null,
      "justify_items": null,
      "left": null,
      "margin": null,
      "max_height": null,
      "max_width": null,
      "min_height": null,
      "min_width": null,
      "object_fit": null,
      "object_position": null,
      "order": null,
      "overflow": null,
      "overflow_x": null,
      "overflow_y": null,
      "padding": null,
      "right": null,
      "top": null,
      "visibility": null,
      "width": null
     }
    },
    "c44b1a87ac6b4216bf1c28be29bdd814": {
     "model_module": "@jupyter-widgets/base",
     "model_name": "LayoutModel",
     "state": {
      "_model_module": "@jupyter-widgets/base",
      "_model_module_version": "1.2.0",
      "_model_name": "LayoutModel",
      "_view_count": null,
      "_view_module": "@jupyter-widgets/base",
      "_view_module_version": "1.2.0",
      "_view_name": "LayoutView",
      "align_content": null,
      "align_items": null,
      "align_self": null,
      "border": null,
      "bottom": null,
      "display": null,
      "flex": null,
      "flex_flow": null,
      "grid_area": null,
      "grid_auto_columns": null,
      "grid_auto_flow": null,
      "grid_auto_rows": null,
      "grid_column": null,
      "grid_gap": null,
      "grid_row": null,
      "grid_template_areas": null,
      "grid_template_columns": null,
      "grid_template_rows": null,
      "height": null,
      "justify_content": null,
      "justify_items": null,
      "left": null,
      "margin": null,
      "max_height": null,
      "max_width": null,
      "min_height": null,
      "min_width": null,
      "object_fit": null,
      "object_position": null,
      "order": null,
      "overflow": null,
      "overflow_x": null,
      "overflow_y": null,
      "padding": null,
      "right": null,
      "top": null,
      "visibility": null,
      "width": null
     }
    },
    "c5395cffb7bb4a5bafc8a557e4055706": {
     "model_module": "@jupyter-widgets/controls",
     "model_name": "FloatProgressModel",
     "state": {
      "_dom_classes": [],
      "_model_module": "@jupyter-widgets/controls",
      "_model_module_version": "1.5.0",
      "_model_name": "FloatProgressModel",
      "_view_count": null,
      "_view_module": "@jupyter-widgets/controls",
      "_view_module_version": "1.5.0",
      "_view_name": "ProgressView",
      "bar_style": "info",
      "description": "",
      "description_tooltip": null,
      "layout": "IPY_MODEL_c44b1a87ac6b4216bf1c28be29bdd814",
      "max": 1,
      "min": 0,
      "orientation": "horizontal",
      "style": "IPY_MODEL_a62959e80cde4944890d7a87f79ba6a2",
      "value": 1
     }
    },
    "cc614219015d496998be8456a401870b": {
     "model_module": "@jupyter-widgets/base",
     "model_name": "LayoutModel",
     "state": {
      "_model_module": "@jupyter-widgets/base",
      "_model_module_version": "1.2.0",
      "_model_name": "LayoutModel",
      "_view_count": null,
      "_view_module": "@jupyter-widgets/base",
      "_view_module_version": "1.2.0",
      "_view_name": "LayoutView",
      "align_content": null,
      "align_items": null,
      "align_self": null,
      "border": null,
      "bottom": null,
      "display": null,
      "flex": null,
      "flex_flow": null,
      "grid_area": null,
      "grid_auto_columns": null,
      "grid_auto_flow": null,
      "grid_auto_rows": null,
      "grid_column": null,
      "grid_gap": null,
      "grid_row": null,
      "grid_template_areas": null,
      "grid_template_columns": null,
      "grid_template_rows": null,
      "height": null,
      "justify_content": null,
      "justify_items": null,
      "left": null,
      "margin": null,
      "max_height": null,
      "max_width": null,
      "min_height": null,
      "min_width": null,
      "object_fit": null,
      "object_position": null,
      "order": null,
      "overflow": null,
      "overflow_x": null,
      "overflow_y": null,
      "padding": null,
      "right": null,
      "top": null,
      "visibility": null,
      "width": null
     }
    },
    "ce7e6bee03b94c8bb123e1c805b9bf0a": {
     "model_module": "@jupyter-widgets/controls",
     "model_name": "DescriptionStyleModel",
     "state": {
      "_model_module": "@jupyter-widgets/controls",
      "_model_module_version": "1.5.0",
      "_model_name": "DescriptionStyleModel",
      "_view_count": null,
      "_view_module": "@jupyter-widgets/base",
      "_view_module_version": "1.2.0",
      "_view_name": "StyleView",
      "description_width": ""
     }
    },
    "d20276b0e758439fb80d6055178f11c7": {
     "model_module": "@jupyter-widgets/controls",
     "model_name": "ProgressStyleModel",
     "state": {
      "_model_module": "@jupyter-widgets/controls",
      "_model_module_version": "1.5.0",
      "_model_name": "ProgressStyleModel",
      "_view_count": null,
      "_view_module": "@jupyter-widgets/base",
      "_view_module_version": "1.2.0",
      "_view_name": "StyleView",
      "bar_color": null,
      "description_width": "initial"
     }
    },
    "dbd80215b5d24f96bdc9c3c312d72099": {
     "model_module": "@jupyter-widgets/controls",
     "model_name": "HTMLModel",
     "state": {
      "_dom_classes": [],
      "_model_module": "@jupyter-widgets/controls",
      "_model_module_version": "1.5.0",
      "_model_name": "HTMLModel",
      "_view_count": null,
      "_view_module": "@jupyter-widgets/controls",
      "_view_module_version": "1.5.0",
      "_view_name": "HTMLView",
      "description": "",
      "description_tooltip": null,
      "layout": "IPY_MODEL_4d51a562ed45404b9e70239906ca2faa",
      "placeholder": "​",
      "style": "IPY_MODEL_73937ba582ee4a52bd6f3dc1612cc72f",
      "value": " 4423680/? [00:13&lt;00:00, 1264177.87it/s]"
     }
    },
    "f5f12cbf0a464da1ae742d4108ffd7ed": {
     "model_module": "@jupyter-widgets/controls",
     "model_name": "HBoxModel",
     "state": {
      "_dom_classes": [],
      "_model_module": "@jupyter-widgets/controls",
      "_model_module_version": "1.5.0",
      "_model_name": "HBoxModel",
      "_view_count": null,
      "_view_module": "@jupyter-widgets/controls",
      "_view_module_version": "1.5.0",
      "_view_name": "HBoxView",
      "box_style": "",
      "children": [
       "IPY_MODEL_92b57062b2d345e3a4f3085c0a089e7e",
       "IPY_MODEL_821a9e0e367e4062a9269ad794c0b997"
      ],
      "layout": "IPY_MODEL_cc614219015d496998be8456a401870b"
     }
    },
    "f75d8937b92045049f2f52e21aefb1c7": {
     "model_module": "@jupyter-widgets/base",
     "model_name": "LayoutModel",
     "state": {
      "_model_module": "@jupyter-widgets/base",
      "_model_module_version": "1.2.0",
      "_model_name": "LayoutModel",
      "_view_count": null,
      "_view_module": "@jupyter-widgets/base",
      "_view_module_version": "1.2.0",
      "_view_name": "LayoutView",
      "align_content": null,
      "align_items": null,
      "align_self": null,
      "border": null,
      "bottom": null,
      "display": null,
      "flex": null,
      "flex_flow": null,
      "grid_area": null,
      "grid_auto_columns": null,
      "grid_auto_flow": null,
      "grid_auto_rows": null,
      "grid_column": null,
      "grid_gap": null,
      "grid_row": null,
      "grid_template_areas": null,
      "grid_template_columns": null,
      "grid_template_rows": null,
      "height": null,
      "justify_content": null,
      "justify_items": null,
      "left": null,
      "margin": null,
      "max_height": null,
      "max_width": null,
      "min_height": null,
      "min_width": null,
      "object_fit": null,
      "object_position": null,
      "order": null,
      "overflow": null,
      "overflow_x": null,
      "overflow_y": null,
      "padding": null,
      "right": null,
      "top": null,
      "visibility": null,
      "width": null
     }
    },
    "f88c86c503ca4ebe8420c4b71d997601": {
     "model_module": "@jupyter-widgets/base",
     "model_name": "LayoutModel",
     "state": {
      "_model_module": "@jupyter-widgets/base",
      "_model_module_version": "1.2.0",
      "_model_name": "LayoutModel",
      "_view_count": null,
      "_view_module": "@jupyter-widgets/base",
      "_view_module_version": "1.2.0",
      "_view_name": "LayoutView",
      "align_content": null,
      "align_items": null,
      "align_self": null,
      "border": null,
      "bottom": null,
      "display": null,
      "flex": null,
      "flex_flow": null,
      "grid_area": null,
      "grid_auto_columns": null,
      "grid_auto_flow": null,
      "grid_auto_rows": null,
      "grid_column": null,
      "grid_gap": null,
      "grid_row": null,
      "grid_template_areas": null,
      "grid_template_columns": null,
      "grid_template_rows": null,
      "height": null,
      "justify_content": null,
      "justify_items": null,
      "left": null,
      "margin": null,
      "max_height": null,
      "max_width": null,
      "min_height": null,
      "min_width": null,
      "object_fit": null,
      "object_position": null,
      "order": null,
      "overflow": null,
      "overflow_x": null,
      "overflow_y": null,
      "padding": null,
      "right": null,
      "top": null,
      "visibility": null,
      "width": null
     }
    },
    "fff5b31ef6d641089bb919dc7ee48d56": {
     "model_module": "@jupyter-widgets/controls",
     "model_name": "HBoxModel",
     "state": {
      "_dom_classes": [],
      "_model_module": "@jupyter-widgets/controls",
      "_model_module_version": "1.5.0",
      "_model_name": "HBoxModel",
      "_view_count": null,
      "_view_module": "@jupyter-widgets/controls",
      "_view_module_version": "1.5.0",
      "_view_name": "HBoxView",
      "box_style": "",
      "children": [
       "IPY_MODEL_2f7203678b2f4338b4c95f0ba0e8c37e",
       "IPY_MODEL_90f3d1c137284fe28fadadaa82fde49d"
      ],
      "layout": "IPY_MODEL_6d99442761384761adeee0cf17cfde21"
     }
    }
   }
  }
 },
 "nbformat": 4,
 "nbformat_minor": 1
}
